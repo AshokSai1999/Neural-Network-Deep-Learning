{
  "nbformat": 4,
  "nbformat_minor": 0,
  "metadata": {
    "colab": {
      "provenance": [],
      "gpuType": "T4"
    },
    "kernelspec": {
      "name": "python3",
      "display_name": "Python 3"
    },
    "language_info": {
      "name": "python"
    },
    "accelerator": "GPU"
  },
  "cells": [
    {
      "cell_type": "code",
      "execution_count": 13,
      "metadata": {
        "id": "daLJx9Jzbd8u"
      },
      "outputs": [],
      "source": [
        "import pandas as pd #Basic packages for creating dataframes and loading dataset\n",
        "import numpy as np\n",
        "\n",
        "import matplotlib.pyplot as plt #Package for visualization\n",
        "\n",
        "import re #importing package for Regular expression operations\n",
        "\n",
        "from sklearn.model_selection import train_test_split #Package for splitting the data\n",
        "\n",
        "from sklearn.preprocessing import LabelEncoder #Package for conversion of categorical to Numerical\n",
        "\n",
        "from keras.preprocessing.text import Tokenizer #Tokenization\n",
        "from tensorflow.keras.preprocessing.sequence import pad_sequences #Add zeros or crop based on the length\n",
        "from keras.models import Sequential #Sequential Neural Network\n",
        "from keras.layers import Dense, Embedding, LSTM, SpatialDropout1D #For layers in Neural Network\n",
        "from keras.utils.np_utils import to_categorical"
      ]
    },
    {
      "cell_type": "code",
      "source": [
        "import pandas as pd\n",
        "import warnings\n",
        "warnings.filterwarnings(\"ignore\")\n",
        "\n",
        "\n",
        "# Load the dataset as a Pandas DataFrame\n",
        "dataset = pd.read_csv('/content/sample_data/Sentiment (1).csv')\n",
        "\n",
        "# Select only the necessary columns 'text' and 'sentiment'\n",
        "mask = dataset.columns.isin(['text', 'sentiment'])\n",
        "data = dataset.loc[:, mask]\n",
        "\n",
        "# Keeping only the necessary columns\n",
        "data['text'] = data['text'].apply(lambda x: x.lower())\n",
        "data['text'] = data['text'].apply((lambda x: re.sub('[^a-zA-z0-9\\s]', '', x)))"
      ],
      "metadata": {
        "id": "w6LxR97sbtNV"
      },
      "execution_count": 3,
      "outputs": []
    },
    {
      "cell_type": "code",
      "source": [
        "import tensorflow as tf\n",
        "import logging\n",
        "\n",
        "# Suppress TensorFlow logs\n",
        "tf.get_logger().setLevel(logging.ERROR)\n",
        "\n",
        "for idx, row in data.iterrows():\n",
        "    row[0] = row[0].replace('rt', ' ') #Removing Retweets\n",
        "    max_fatures = 2000\n",
        "tokenizer = Tokenizer(num_words=max_fatures, split=' ') #Maximum words is 2000 to tokenize sentence\n",
        "tokenizer.fit_on_texts(data['text'].values)\n",
        "X = tokenizer.texts_to_sequences(data['text'].values) #taking values to feature matrix\n",
        "X = pad_sequences(X) #Padding the feature matrix\n",
        "\n",
        "embed_dim = 128 #Dimension of the Embedded layer\n",
        "lstm_out = 196 #Long short-term memory (LSTM) layer neurons\n",
        "def createmodel():\n",
        "    model = Sequential() #Sequential Neural Network\n",
        "    model.add(Embedding(max_fatures, embed_dim,input_length = X.shape[1])) #input dimension 2000 Neurons, output dimension 128 Neurons\n",
        "    model.add(LSTM(lstm_out, dropout=0.2, recurrent_dropout=0.2)) #Drop out 20%, 196 output Neurons, recurrent dropout 20%\n",
        "    model.add(Dense(3,activation='softmax')) #3 output neurons[positive, Neutral, Negative], softmax as activation\n",
        "    model.compile(loss = 'categorical_crossentropy', optimizer='adam',metrics = ['accuracy']) #Compiling the model\n",
        "    return model\n",
        "labelencoder = LabelEncoder() #Applying label Encoding on the label matrix\n",
        "integer_encoded = labelencoder.fit_transform(data['sentiment']) #fitting the model\n",
        "y = to_categorical(integer_encoded)\n",
        "X_train, X_test, Y_train, Y_test = train_test_split(X,y, test_size = 0.33, random_state = 42) #67% training data, 33% test data split\n",
        "batch_size = 32 #Batch size 32\n",
        "model = createmodel() #Function call to Sequential Neural Network\n",
        "model.fit(X_train, Y_train, epochs = 1, batch_size=batch_size, verbose = 2) #verbose the higher, the more messages\n",
        "score,acc = model.evaluate(X_test,Y_test,verbose=2,batch_size=batch_size) #evaluating the model\n",
        "print(score)\n",
        "print(acc)"
      ],
      "metadata": {
        "colab": {
          "base_uri": "https://localhost:8080/"
        },
        "id": "dKPWMEchdfcN",
        "outputId": "6ad696c5-2045-4558-e42c-332f9d42d405"
      },
      "execution_count": 20,
      "outputs": [
        {
          "output_type": "stream",
          "name": "stdout",
          "text": [
            "291/291 - 53s - loss: 0.8247 - accuracy: 0.6422 - 53s/epoch - 180ms/step\n",
            "144/144 - 2s - loss: 0.7600 - accuracy: 0.6765 - 2s/epoch - 16ms/step\n",
            "0.7600353360176086\n",
            "0.6764962673187256\n"
          ]
        }
      ]
    },
    {
      "cell_type": "code",
      "source": [
        "#1. Save the model and use the saved model to predict on new text data (ex, “A lot of good things are happening. We are respected again throughout the world, and that's a great thing.@realDonaldTrump”)\n",
        "\n",
        "model.save('sentimentAnalysis.h3') #Saving the model"
      ],
      "metadata": {
        "id": "3WSO_o9De2WL"
      },
      "execution_count": 21,
      "outputs": []
    },
    {
      "cell_type": "code",
      "source": [
        "from keras.models import load_model #Importing the package for importing the saved model\n",
        "model= load_model('sentimentAnalysis.h3') #loading the saved model"
      ],
      "metadata": {
        "id": "L_kd-i_DfSCR"
      },
      "execution_count": 22,
      "outputs": []
    },
    {
      "cell_type": "code",
      "source": [
        "print(integer_encoded)\n",
        "print(data['sentiment'])"
      ],
      "metadata": {
        "colab": {
          "base_uri": "https://localhost:8080/"
        },
        "id": "C9UiXqbjfily",
        "outputId": "aa933cf9-071c-40b9-ffeb-9dd5b76e4c14"
      },
      "execution_count": 10,
      "outputs": [
        {
          "output_type": "stream",
          "name": "stdout",
          "text": [
            "[1 2 1 ... 2 0 2]\n",
            "0         Neutral\n",
            "1        Positive\n",
            "2         Neutral\n",
            "3        Positive\n",
            "4        Positive\n",
            "           ...   \n",
            "13866    Negative\n",
            "13867    Positive\n",
            "13868    Positive\n",
            "13869    Negative\n",
            "13870    Positive\n",
            "Name: sentiment, Length: 13871, dtype: object\n"
          ]
        }
      ]
    },
    {
      "cell_type": "code",
      "source": [
        "# Predicting on the text data\n",
        "sentence = ['A lot of good things are happening. We are respected again throughout the world, and that is a great thing.@realDonaldTrump']\n",
        "sentence = tokenizer.texts_to_sequences(sentence) # Tokenizing the sentence\n",
        "sentence = pad_sequences(sentence, maxlen=28, dtype='int32', value=0) # Padding the sentence\n",
        "sentiment_probs = model.predict(sentence, batch_size=1, verbose=2)[0] # Predicting the sentence text\n",
        "sentiment = np.argmax(sentiment_probs)\n",
        "\n",
        "print(sentiment_probs)\n",
        "if sentiment == 0:\n",
        "    print(\"Neutral\")\n",
        "elif sentiment < 0:\n",
        "    print(\"Negative\")\n",
        "elif sentiment > 0:\n",
        "    print(\"Positive\")\n",
        "else:\n",
        "    print(\"Cannot be determined\")"
      ],
      "metadata": {
        "colab": {
          "base_uri": "https://localhost:8080/"
        },
        "id": "zpvro4nSfqVc",
        "outputId": "5a99fbe9-4927-45c0-b3c4-81e4622a8c91"
      },
      "execution_count": 23,
      "outputs": [
        {
          "output_type": "stream",
          "name": "stdout",
          "text": [
            "1/1 - 0s - 305ms/epoch - 305ms/step\n",
            "[0.6912919  0.14538696 0.16332114]\n",
            "Neutral\n"
          ]
        }
      ]
    },
    {
      "cell_type": "code",
      "source": [
        "#2. Apply GridSearchCV on the source code provided in the class\n",
        "\n",
        "from keras.wrappers.scikit_learn import KerasClassifier #importing Keras classifier\n",
        "from sklearn.model_selection import GridSearchCV #importing Grid search CV\n",
        "\n",
        "model = KerasClassifier(build_fn=createmodel,verbose=2) #initiating model to test performance by applying multiple hyper parameters\n",
        "batch_size= [10, 20, 40] #hyper parameter batch_size\n",
        "epochs = [1, 2] #hyper parameter no. of epochs\n",
        "param_grid= {'batch_size':batch_size, 'epochs':epochs} #creating dictionary for batch size, no. of epochs\n",
        "grid  = GridSearchCV(estimator=model, param_grid=param_grid) #Applying dictionary with hyper parameters\n",
        "grid_result= grid.fit(X_train,Y_train) #Fitting the model\n",
        "# summarize results\n",
        "print(\"Best: %f using %s\" % (grid_result.best_score_, grid_result.best_params_)) #best score, best hyper parameters"
      ],
      "metadata": {
        "colab": {
          "base_uri": "https://localhost:8080/"
        },
        "id": "Uh7W7fgQmm-U",
        "outputId": "075de56e-0f1d-490f-fb9d-746324b9e8f5"
      },
      "execution_count": 24,
      "outputs": [
        {
          "output_type": "stream",
          "name": "stdout",
          "text": [
            "744/744 - 117s - loss: 0.8299 - accuracy: 0.6477 - 117s/epoch - 157ms/step\n",
            "186/186 - 2s - loss: 0.7502 - accuracy: 0.6794 - 2s/epoch - 12ms/step\n",
            "744/744 - 113s - loss: 0.8275 - accuracy: 0.6492 - 113s/epoch - 152ms/step\n",
            "186/186 - 3s - loss: 0.7959 - accuracy: 0.6643 - 3s/epoch - 17ms/step\n",
            "744/744 - 114s - loss: 0.8256 - accuracy: 0.6455 - 114s/epoch - 154ms/step\n",
            "186/186 - 3s - loss: 0.7685 - accuracy: 0.6789 - 3s/epoch - 17ms/step\n",
            "744/744 - 111s - loss: 0.8215 - accuracy: 0.6461 - 111s/epoch - 149ms/step\n",
            "186/186 - 2s - loss: 0.7469 - accuracy: 0.6755 - 2s/epoch - 12ms/step\n",
            "744/744 - 114s - loss: 0.8207 - accuracy: 0.6480 - 114s/epoch - 154ms/step\n",
            "186/186 - 3s - loss: 0.7819 - accuracy: 0.6658 - 3s/epoch - 18ms/step\n",
            "Epoch 1/2\n",
            "744/744 - 112s - loss: 0.8270 - accuracy: 0.6470 - 112s/epoch - 151ms/step\n",
            "Epoch 2/2\n",
            "744/744 - 99s - loss: 0.6812 - accuracy: 0.7094 - 99s/epoch - 134ms/step\n",
            "186/186 - 3s - loss: 0.7641 - accuracy: 0.6864 - 3s/epoch - 14ms/step\n",
            "Epoch 1/2\n",
            "744/744 - 113s - loss: 0.8186 - accuracy: 0.6519 - 113s/epoch - 152ms/step\n",
            "Epoch 2/2\n",
            "744/744 - 103s - loss: 0.6768 - accuracy: 0.7129 - 103s/epoch - 139ms/step\n",
            "186/186 - 2s - loss: 0.7296 - accuracy: 0.6848 - 2s/epoch - 13ms/step\n",
            "Epoch 1/2\n",
            "744/744 - 114s - loss: 0.8245 - accuracy: 0.6406 - 114s/epoch - 153ms/step\n",
            "Epoch 2/2\n",
            "744/744 - 103s - loss: 0.6751 - accuracy: 0.7152 - 103s/epoch - 139ms/step\n",
            "186/186 - 2s - loss: 0.7438 - accuracy: 0.7009 - 2s/epoch - 12ms/step\n",
            "Epoch 1/2\n",
            "744/744 - 115s - loss: 0.8266 - accuracy: 0.6448 - 115s/epoch - 154ms/step\n",
            "Epoch 2/2\n",
            "744/744 - 102s - loss: 0.6686 - accuracy: 0.7186 - 102s/epoch - 138ms/step\n",
            "186/186 - 2s - loss: 0.7566 - accuracy: 0.6808 - 2s/epoch - 12ms/step\n",
            "Epoch 1/2\n",
            "744/744 - 113s - loss: 0.8205 - accuracy: 0.6459 - 113s/epoch - 151ms/step\n",
            "Epoch 2/2\n",
            "744/744 - 102s - loss: 0.6674 - accuracy: 0.7163 - 102s/epoch - 137ms/step\n",
            "186/186 - 2s - loss: 0.7841 - accuracy: 0.6572 - 2s/epoch - 12ms/step\n",
            "372/372 - 68s - loss: 0.8287 - accuracy: 0.6423 - 68s/epoch - 183ms/step\n",
            "93/93 - 2s - loss: 0.7568 - accuracy: 0.6735 - 2s/epoch - 19ms/step\n",
            "372/372 - 64s - loss: 0.8336 - accuracy: 0.6435 - 64s/epoch - 171ms/step\n",
            "93/93 - 1s - loss: 0.7901 - accuracy: 0.6643 - 1s/epoch - 13ms/step\n",
            "372/372 - 64s - loss: 0.8248 - accuracy: 0.6431 - 64s/epoch - 172ms/step\n",
            "93/93 - 2s - loss: 0.7480 - accuracy: 0.6805 - 2s/epoch - 19ms/step\n",
            "372/372 - 61s - loss: 0.8326 - accuracy: 0.6425 - 61s/epoch - 164ms/step\n",
            "93/93 - 1s - loss: 0.7537 - accuracy: 0.6781 - 1s/epoch - 13ms/step\n",
            "372/372 - 64s - loss: 0.8276 - accuracy: 0.6429 - 64s/epoch - 173ms/step\n",
            "93/93 - 1s - loss: 0.7765 - accuracy: 0.6577 - 1s/epoch - 12ms/step\n",
            "Epoch 1/2\n",
            "372/372 - 64s - loss: 0.8408 - accuracy: 0.6375 - 64s/epoch - 172ms/step\n",
            "Epoch 2/2\n",
            "372/372 - 49s - loss: 0.6834 - accuracy: 0.7070 - 49s/epoch - 133ms/step\n",
            "93/93 - 1s - loss: 0.7157 - accuracy: 0.6902 - 1s/epoch - 12ms/step\n",
            "Epoch 1/2\n",
            "372/372 - 63s - loss: 0.8288 - accuracy: 0.6469 - 63s/epoch - 169ms/step\n",
            "Epoch 2/2\n",
            "372/372 - 49s - loss: 0.6793 - accuracy: 0.7151 - 49s/epoch - 130ms/step\n",
            "93/93 - 1s - loss: 0.7329 - accuracy: 0.6859 - 1s/epoch - 12ms/step\n",
            "Epoch 1/2\n",
            "372/372 - 64s - loss: 0.8339 - accuracy: 0.6414 - 64s/epoch - 173ms/step\n",
            "Epoch 2/2\n",
            "372/372 - 52s - loss: 0.6772 - accuracy: 0.7137 - 52s/epoch - 140ms/step\n",
            "93/93 - 1s - loss: 0.7594 - accuracy: 0.6719 - 1s/epoch - 13ms/step\n",
            "Epoch 1/2\n",
            "372/372 - 63s - loss: 0.8385 - accuracy: 0.6395 - 63s/epoch - 170ms/step\n",
            "Epoch 2/2\n",
            "372/372 - 49s - loss: 0.6760 - accuracy: 0.7064 - 49s/epoch - 131ms/step\n",
            "93/93 - 1s - loss: 0.7589 - accuracy: 0.6814 - 1s/epoch - 13ms/step\n",
            "Epoch 1/2\n",
            "372/372 - 62s - loss: 0.8248 - accuracy: 0.6445 - 62s/epoch - 167ms/step\n",
            "Epoch 2/2\n",
            "372/372 - 51s - loss: 0.6678 - accuracy: 0.7159 - 51s/epoch - 138ms/step\n",
            "93/93 - 1s - loss: 0.7702 - accuracy: 0.6722 - 1s/epoch - 15ms/step\n",
            "186/186 - 41s - loss: 0.8470 - accuracy: 0.6349 - 41s/epoch - 218ms/step\n",
            "47/47 - 1s - loss: 0.7586 - accuracy: 0.6616 - 1s/epoch - 24ms/step\n",
            "186/186 - 37s - loss: 0.8449 - accuracy: 0.6328 - 37s/epoch - 201ms/step\n",
            "47/47 - 1s - loss: 0.7823 - accuracy: 0.6713 - 747ms/epoch - 16ms/step\n",
            "186/186 - 38s - loss: 0.8423 - accuracy: 0.6325 - 38s/epoch - 202ms/step\n",
            "47/47 - 1s - loss: 0.7736 - accuracy: 0.6869 - 748ms/epoch - 16ms/step\n",
            "186/186 - 37s - loss: 0.8461 - accuracy: 0.6359 - 37s/epoch - 198ms/step\n",
            "47/47 - 1s - loss: 0.7528 - accuracy: 0.6733 - 727ms/epoch - 15ms/step\n",
            "186/186 - 38s - loss: 0.8311 - accuracy: 0.6358 - 38s/epoch - 207ms/step\n",
            "47/47 - 1s - loss: 0.8028 - accuracy: 0.6523 - 1s/epoch - 24ms/step\n",
            "Epoch 1/2\n",
            "186/186 - 37s - loss: 0.8447 - accuracy: 0.6390 - 37s/epoch - 199ms/step\n",
            "Epoch 2/2\n",
            "186/186 - 26s - loss: 0.6957 - accuracy: 0.7055 - 26s/epoch - 142ms/step\n",
            "47/47 - 1s - loss: 0.7324 - accuracy: 0.6799 - 773ms/epoch - 16ms/step\n",
            "Epoch 1/2\n",
            "186/186 - 38s - loss: 0.8409 - accuracy: 0.6365 - 38s/epoch - 203ms/step\n",
            "Epoch 2/2\n",
            "186/186 - 27s - loss: 0.6941 - accuracy: 0.7042 - 27s/epoch - 144ms/step\n",
            "47/47 - 1s - loss: 0.7487 - accuracy: 0.6842 - 744ms/epoch - 16ms/step\n",
            "Epoch 1/2\n",
            "186/186 - 40s - loss: 0.8532 - accuracy: 0.6295 - 40s/epoch - 213ms/step\n",
            "Epoch 2/2\n",
            "186/186 - 27s - loss: 0.6768 - accuracy: 0.7140 - 27s/epoch - 145ms/step\n",
            "47/47 - 1s - loss: 0.7515 - accuracy: 0.6810 - 920ms/epoch - 20ms/step\n",
            "Epoch 1/2\n",
            "186/186 - 36s - loss: 0.8442 - accuracy: 0.6348 - 36s/epoch - 193ms/step\n",
            "Epoch 2/2\n",
            "186/186 - 27s - loss: 0.6778 - accuracy: 0.7079 - 27s/epoch - 148ms/step\n",
            "47/47 - 1s - loss: 0.7359 - accuracy: 0.6895 - 769ms/epoch - 16ms/step\n",
            "Epoch 1/2\n",
            "186/186 - 39s - loss: 0.8518 - accuracy: 0.6378 - 39s/epoch - 212ms/step\n",
            "Epoch 2/2\n",
            "186/186 - 27s - loss: 0.6786 - accuracy: 0.7132 - 27s/epoch - 145ms/step\n",
            "47/47 - 1s - loss: 0.8022 - accuracy: 0.6695 - 745ms/epoch - 16ms/step\n",
            "Epoch 1/2\n",
            "930/930 - 145s - loss: 0.8132 - accuracy: 0.6545 - 145s/epoch - 156ms/step\n",
            "Epoch 2/2\n",
            "930/930 - 129s - loss: 0.6708 - accuracy: 0.7179 - 129s/epoch - 139ms/step\n",
            "Best: 0.682016 using {'batch_size': 10, 'epochs': 2}\n"
          ]
        }
      ]
    }
  ]
}